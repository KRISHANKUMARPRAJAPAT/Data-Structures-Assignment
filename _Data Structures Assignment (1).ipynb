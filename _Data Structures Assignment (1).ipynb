{
 "cells": [
  {
   "cell_type": "raw",
   "id": "eea70d38-4220-40a6-9244-41db9309d8a1",
   "metadata": {},
   "source": [
    "# Q1. How do you comment code in Python? What are the different types of comments?\n",
    "# Q2. What are variables in Python? How do you declare and assign values to variables?\n",
    "# Q3. How do you convert one data type to another in Python?\n",
    "# Q4. How do you write and execute a Python script from the command line?\n",
    "# Q5. Given a list my_list = [1, 2, 3, 4, 5], write the code to slice the list and obtain the sub-list [2, 3].\n",
    "# Q6. What is a complex number in mathematics, and how is it represented in Python?\n",
    "# Q7. What is the correct way to declare a variable named age and assign the value 25 to it?\n",
    "# Q8. Declare a variable named price and assign the value 9.99 to it. What data type does this variable belong to?\n",
    "# Q9. Create a variable named name and assign your full name to it as a string. How would you print the value of this variable?\n",
    "# Q10. Given the string \"Hello, World!\", extract the substring \"World\".\n",
    "# Q11. Create a variable named \"is_student\" and assign it a boolean value indicating whether you are currently a student or not."
   ]
  },
  {
   "cell_type": "markdown",
   "id": "607b4681-b347-461d-a58a-808b96af77f2",
   "metadata": {},
   "source": [
    "# Q1. How do you comment code in Python? What are the different types of comments?"
   ]
  },
  {
   "cell_type": "markdown",
   "id": "69b3f054-ff28-4cd3-9f1d-2074293a2879",
   "metadata": {},
   "source": [
    "# Ans: 1\n",
    "\n",
    "Comments are primarily meant for human readers to understand the code and are not executed by the interpreter. They are used to explain the purpose of the code, provide additional context, or temporarily disable specific lines of code during development. \n",
    "\n",
    "\n",
    "**Single-line comment:** \n",
    "We can use the hash symbol ('#') to create a single-line comment. Anything written after the hash symbol on the same line is considered a comment and is ignored by the Python interpreter.\n",
    "\n",
    "**Multi-line comment:**\n",
    "Python also supports multi-line comments using docstrings. A docstring is a string literal placed at the beginning of a module, function, class, or method definition. It is used to provide documentation about the code. Docstrings can span multiple lines and are enclosed within triple quotes (''' or \"\"\").\n",
    "\n",
    "Here are examples:"
   ]
  },
  {
   "cell_type": "code",
   "execution_count": 46,
   "id": "0805333e-7a33-4b32-a074-968bc17046ae",
   "metadata": {},
   "outputs": [
    {
     "name": "stdout",
     "output_type": "stream",
     "text": [
      "Hello , instructor i am a learner of pwskills\n",
      "345\n"
     ]
    }
   ],
   "source": [
    "# This is single line comment: \n",
    "print('Hello , instructor i am a learner of pwskills')\n",
    "\n",
    "\n",
    "\n",
    "# This is Multi line comment: \n",
    "\"\"\"\n",
    "This is a multi-line comment using a docstring.\n",
    "It can span multiple lines and is often used.\n",
    "to provide documentation about the code.\n",
    "\"\"\"\n",
    "\n",
    "a = 123\n",
    "b = 222\n",
    "c = a + b\n",
    "print(c)"
   ]
  },
  {
   "cell_type": "markdown",
   "id": "511fb9a6-7f8a-4fd7-bcbe-e21e184adc8f",
   "metadata": {},
   "source": []
  },
  {
   "cell_type": "markdown",
   "id": "3329b2fe-44a9-4caa-bea8-31276053d0c9",
   "metadata": {},
   "source": [
    "# Q2. What are variables in Python? How do you declare and assign values to variables?"
   ]
  },
  {
   "cell_type": "markdown",
   "id": "81af6653-3b45-4eb4-8880-d1690fe3af2a",
   "metadata": {},
   "source": [
    "# Ans: 2\n",
    "\n",
    "**Variables in python**\n",
    "\n",
    "Variables are a fundamental concept in programming, and they help you work with data in a flexible and organized way.\n",
    "\n",
    "Imagine you have a box. You can give that box a name, like \"my_variable.\" Now, you can put things inside that box. These things can be numbers, words, or anything else you want to store.\n",
    "\n",
    "In the same way when we comes towards python programming variables are like those boxes. They are named containers that can hold different kinds of information. You can think of them as labels that you attach to values or data.\n",
    "\n",
    "For example, let's say you want to store your age. You can create a variable called \"age\" and put your age inside it.Variables are handy because they allow you to store data and use it in your code. You can perform calculations, manipulate text, or make decisions based on the values stored in variables. They give you a way to keep track of information as your program runs."
   ]
  },
  {
   "cell_type": "markdown",
   "id": "f1e6806a-bae5-4ca7-8b3e-904a67b79625",
   "metadata": {},
   "source": [
    "**To declare and assign values to variables in Python, follow these steps:**\n",
    "\n",
    "- Choose a name for your variable. It should be a meaningful and descriptive name.\n",
    "- Use the assignment operator (=) to assign a value to the variable.\n",
    "- The variable will automatically be created when you assign a value to it.\n"
   ]
  },
  {
   "cell_type": "code",
   "execution_count": 47,
   "id": "4ccf3538-6021-4f0e-9300-4de640caac39",
   "metadata": {},
   "outputs": [],
   "source": [
    "age = 21\n",
    "name = 'Krishna'"
   ]
  },
  {
   "cell_type": "markdown",
   "id": "c84b5d24-3f2f-4a9f-894d-c482e0956cf3",
   "metadata": {},
   "source": [
    "In this example, we declared two variables: age and name. The age variable is assigned the value 21, and the name variable is assigned the string value 'Krishna'.\n",
    "\n",
    "You can assign values of different types (like numbers, strings, etc.) to variables, and you can change the value of a variable by assigning a new value to it later in your code."
   ]
  },
  {
   "cell_type": "code",
   "execution_count": null,
   "id": "d8283877-be86-4bcc-b88c-7f8599e15b97",
   "metadata": {},
   "outputs": [],
   "source": []
  },
  {
   "cell_type": "markdown",
   "id": "186c17b4-cb4a-42dd-89b4-36f8ce7ba488",
   "metadata": {},
   "source": [
    "# Q3. How do you convert one data type to another in Python?"
   ]
  },
  {
   "cell_type": "markdown",
   "id": "bd3a1d7e-1619-4ce5-bd68-0e192a9dfb81",
   "metadata": {},
   "source": [
    "# Ans : 3\n",
    "We can convert one data type to another using a process called **\"type conversion\"** or **\"type casting.\"** Python provides several built-in functions for performing type conversion.\n",
    "\n",
    "Here are some commonly used functions:\n",
    "- **int():** Converts a value to an integer data type.\n",
    "- **float():** Converts a value to a floating-point (decimal) data type.\n",
    "- **str():** Converts a value to a string data type.\n",
    "- **bool():** Converts a value to a boolean data type.\n",
    "\n",
    "Python provides some implicit type conversion, also known as **\"type coercion\"** in certain situations. For example, when performing arithmetic operations between different numeric types, Python automatically converts values to a common type based on a set of rules."
   ]
  },
  {
   "cell_type": "code",
   "execution_count": 69,
   "id": "b5a5d410-b853-40ff-a3a9-fee767960bf3",
   "metadata": {},
   "outputs": [
    {
     "data": {
      "text/plain": [
       "(3, 5.67, False)"
      ]
     },
     "execution_count": 69,
     "metadata": {},
     "output_type": "execute_result"
    }
   ],
   "source": [
    "# converting to integer: \n",
    "x = int(3.14)\n",
    "\n",
    "# converting to float: \n",
    "y = float('5.67')\n",
    "\n",
    "# converting to boolnean : \n",
    "w = bool(0)\n",
    "x,y,w"
   ]
  },
  {
   "cell_type": "code",
   "execution_count": null,
   "id": "0d8ce7db-0af1-4b6c-b524-a6f591c8d033",
   "metadata": {},
   "outputs": [],
   "source": []
  },
  {
   "cell_type": "markdown",
   "id": "1549bf43-3e72-4e6f-a4fc-fac84ed635b6",
   "metadata": {},
   "source": [
    "# Q4. How do you write and execute a Python script from the command line?"
   ]
  },
  {
   "cell_type": "markdown",
   "id": "64beec1b-6c56-43bf-91d1-f25ea33117dc",
   "metadata": {},
   "source": [
    "#Ans: 4\n",
    "\n",
    "**To write and execute a Python script from the command line, follow these steps:**\n",
    "\n",
    "- Open a text editor and create a new file.\n",
    "\n",
    "- Write your Python code in the text editor, following the Python syntax.\n",
    "\n",
    "- Save the file with a \".py\" extension. For example, you can save it as 'my_script.py.'\n",
    "\n",
    "- Open a command-line interface (e.g., Command Prompt on Windows or Terminal on macOS/Linux).\n",
    "\n",
    "- Navigate to the directory where you saved your Python script using the 'cd' command. For example, if your script is saved on the desktop, you can navigate to the desktop folder with:\n",
    "\n",
    "- Once you are in the correct directory, you can execute the Python script by running the command:\n",
    "\n",
    "When you run the command, the Python interpreter will execute your script, and any output or results specified in your code will be displayed in the command-line interface."
   ]
  },
  {
   "cell_type": "code",
   "execution_count": null,
   "id": "17bc43ba-d87d-4748-a1ab-36eb5c610483",
   "metadata": {},
   "outputs": [],
   "source": []
  },
  {
   "cell_type": "markdown",
   "id": "996bdbd8-d3bb-4969-ac3a-900cedf539e4",
   "metadata": {},
   "source": [
    "# Q5. Given a list my_list = [1, 2, 3, 4, 5], write the code to slice the list and obtain the sub-list [2, 3]."
   ]
  },
  {
   "cell_type": "markdown",
   "id": "6c93d4b1-3c26-4c0e-aa27-973d1205d11e",
   "metadata": {},
   "source": [
    "#Ans: 5\n",
    "\n",
    "Here we can use the **slice notation.** \n",
    "The slice notation allows you to extract a portion of a list based on the start and end indices."
   ]
  },
  {
   "cell_type": "code",
   "execution_count": 70,
   "id": "19f9c055-a77d-4ccf-898a-203a61548236",
   "metadata": {},
   "outputs": [
    {
     "data": {
      "text/plain": [
       "[2, 3]"
      ]
     },
     "execution_count": 70,
     "metadata": {},
     "output_type": "execute_result"
    }
   ],
   "source": [
    "my_list = [1,2,3,4,5]\n",
    "sub_list = my_list[1:3]\n",
    "sub_list"
   ]
  },
  {
   "cell_type": "code",
   "execution_count": null,
   "id": "69501a9a-e02f-4198-98f6-ccb1845a7e96",
   "metadata": {},
   "outputs": [],
   "source": []
  },
  {
   "cell_type": "markdown",
   "id": "1ca553d6-ac7a-43ad-9add-ea4dedfcc469",
   "metadata": {},
   "source": [
    "# Q6. What is a complex number in mathematics, and how is it represented in Python?"
   ]
  },
  {
   "cell_type": "markdown",
   "id": "8b62a5c6-e75e-4f68-b05f-18340292350b",
   "metadata": {},
   "source": [
    "#Ans: 6\n",
    "\n",
    "In mathematics, a complex number is a number that consists of two parts: a real part and an imaginary part. It is written in the form a + bi, where a is the real part, b is the imaginary part, and i is the imaginary unit (where i² = -1).\n",
    "\n",
    "Python's support for complex numbers allows you to work with mathematical operations involving both real and imaginary parts.\n",
    "It provides a convenient way to handle complex computations and simulations where real and imaginary components are involved."
   ]
  },
  {
   "cell_type": "code",
   "execution_count": 71,
   "id": "51ad0df6-a7dd-4715-8864-621ca74f753e",
   "metadata": {},
   "outputs": [
    {
     "name": "stdout",
     "output_type": "stream",
     "text": [
      "(4+1j)\n"
     ]
    }
   ],
   "source": [
    "z1 = 3 + 2j\n",
    "z2 = 1 - 1j\n",
    "result = z1 + z2\n",
    "print(result) "
   ]
  },
  {
   "cell_type": "code",
   "execution_count": null,
   "id": "23a55791-80de-41f1-a95c-63f30ee4533b",
   "metadata": {},
   "outputs": [],
   "source": []
  },
  {
   "cell_type": "markdown",
   "id": "dd43a74b-f4ec-4dc3-b520-981c901688fb",
   "metadata": {},
   "source": [
    "# Q7. What is the correct way to declare a variable named age and assign the value 25 to it?"
   ]
  },
  {
   "cell_type": "code",
   "execution_count": 72,
   "id": "6fba151d-aa53-486a-9370-a72405b39ad0",
   "metadata": {},
   "outputs": [],
   "source": [
    "# Ans: 7\n",
    "age = 25"
   ]
  },
  {
   "cell_type": "code",
   "execution_count": null,
   "id": "f0b20766-73bf-4da0-9b6f-cb9c2e184a62",
   "metadata": {},
   "outputs": [],
   "source": []
  },
  {
   "cell_type": "markdown",
   "id": "24deed81-53ae-47be-9646-3f6b73fc18f2",
   "metadata": {},
   "source": [
    "# Q8. Declare a variable named price and assign the value 9.99 to it. What data type does this variable belong to?"
   ]
  },
  {
   "cell_type": "code",
   "execution_count": 73,
   "id": "8c93498b-107b-446a-b9ab-d16f0c24764d",
   "metadata": {},
   "outputs": [
    {
     "data": {
      "text/plain": [
       "float"
      ]
     },
     "execution_count": 73,
     "metadata": {},
     "output_type": "execute_result"
    }
   ],
   "source": [
    "#Ans: 8 \n",
    "\n",
    "price = 9.99\n",
    "type(price) # The float (data type) is belong to this variable."
   ]
  },
  {
   "cell_type": "code",
   "execution_count": null,
   "id": "f2ae9792-af9e-42ae-b04b-c73997c1ac65",
   "metadata": {},
   "outputs": [],
   "source": []
  },
  {
   "cell_type": "markdown",
   "id": "11a04309-25ec-407c-bc2c-f6cad4f0a5fb",
   "metadata": {},
   "source": [
    "# Q9. Create a variable named name and assign your full name to it as a string. How would you print the value of this variable?"
   ]
  },
  {
   "cell_type": "code",
   "execution_count": 74,
   "id": "489a4abd-29ec-4acb-9bd5-eb9ab50960f5",
   "metadata": {},
   "outputs": [
    {
     "name": "stdout",
     "output_type": "stream",
     "text": [
      "Krishna Kumar Prajapat\n"
     ]
    }
   ],
   "source": [
    "#Ans: 9\n",
    "\n",
    "name = 'Krishna Kumar Prajapat'\n",
    "print(name)"
   ]
  },
  {
   "cell_type": "code",
   "execution_count": null,
   "id": "df822817-5a26-4982-8cb0-969d1f8fa79d",
   "metadata": {},
   "outputs": [],
   "source": []
  },
  {
   "cell_type": "markdown",
   "id": "572863c9-776a-497d-9562-aeef300c4ca0",
   "metadata": {},
   "source": [
    "# Q10. Given the string \"Hello, World!\", extract the substring \"World\"."
   ]
  },
  {
   "cell_type": "code",
   "execution_count": 57,
   "id": "1efab8fb-1626-45fc-9437-f31f846322fb",
   "metadata": {},
   "outputs": [
    {
     "data": {
      "text/plain": [
       "'World'"
      ]
     },
     "execution_count": 75,
     "metadata": {},
     "output_type": "execute_result"
    }
   ],
   "source": [
    "#Ans: 10 \n",
    "str = \"Hello, World!\"\n",
    "str[7:12]"
   ]
  },
  {
   "cell_type": "code",
   "execution_count": null,
   "id": "eb3e72d1-d343-4911-8915-a46f40891010",
   "metadata": {},
   "outputs": [],
   "source": []
  },
  {
   "cell_type": "markdown",
   "id": "b38560a5-84a3-4a05-a80e-1c431ff54650",
   "metadata": {},
   "source": [
    "# Q11. Create a variable named \"is_student\" and assign it a boolean value indicating whether you are currently a student or not."
   ]
  },
  {
   "cell_type": "code",
   "execution_count": 83,
   "id": "41516a3d-6121-4a4e-b942-9e3087abba5f",
   "metadata": {},
   "outputs": [
    {
     "name": "stdout",
     "output_type": "stream",
     "text": [
      "you are a student\n"
     ]
    }
   ],
   "source": [
    "#Ans: 11\n",
    "\n",
    "is_student = True \n",
    "if is_student:\n",
    "    print('you are a student')\n",
    "else: \n",
    "    print('you are not a student')"
   ]
  },
  {
   "cell_type": "code",
   "execution_count": 84,
   "id": "efca984e-dc9e-43e2-a3cd-bbc747cf3d93",
   "metadata": {},
   "outputs": [],
   "source": [
    "is_student = False \n",
    "if is_student:\n",
    "    print('you are not a student')"
   ]
  },
  {
   "cell_type": "code",
   "execution_count": null,
   "id": "b1134ce3-e20f-40a4-830a-85ee8ef3c34e",
   "metadata": {},
   "outputs": [],
   "source": []
  },
  {
   "cell_type": "code",
   "execution_count": null,
   "id": "67830914-9528-48c8-9767-7f8877aa042c",
   "metadata": {},
   "outputs": [],
   "source": []
  }
 ],
 "metadata": {
  "kernelspec": {
   "display_name": "Python 3 (ipykernel)",
   "language": "python",
   "name": "python3"
  },
  "language_info": {
   "codemirror_mode": {
    "name": "ipython",
    "version": 3
   },
   "file_extension": ".py",
   "mimetype": "text/x-python",
   "name": "python",
   "nbconvert_exporter": "python",
   "pygments_lexer": "ipython3",
   "version": "3.10.8"
  }
 },
 "nbformat": 4,
 "nbformat_minor": 5
}
